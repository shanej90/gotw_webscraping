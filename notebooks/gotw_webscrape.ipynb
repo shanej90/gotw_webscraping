{
 "cells": [
  {
   "cell_type": "markdown",
   "id": "d8ae1260",
   "metadata": {},
   "source": [
    "# Can we webscrape GotW?"
   ]
  },
  {
   "cell_type": "markdown",
   "id": "aea2b4de",
   "metadata": {},
   "source": [
    "## import the necessary modules"
   ]
  },
  {
   "cell_type": "code",
   "execution_count": 1,
   "id": "ae7f3912",
   "metadata": {},
   "outputs": [],
   "source": [
    "from bs4 import BeautifulSoup as Soup\n",
    "from datetime import datetime\n",
    "import lxml\n",
    "import pandas as pd\n",
    "import re\n",
    "from selenium import webdriver\n",
    "from selenium.webdriver.common.by import By\n",
    "from selenium.webdriver.support import expected_conditions as EC\n",
    "from selenium.webdriver.edge.service import Service\n",
    "from selenium.webdriver.support.ui import WebDriverWait\n",
    "import time\n",
    "from urllib import request\n",
    "from webdriver_manager.microsoft import EdgeChromiumDriverManager"
   ]
  },
  {
   "cell_type": "markdown",
   "id": "2001f4f5",
   "metadata": {},
   "source": [
    "## setup"
   ]
  },
  {
   "cell_type": "code",
   "execution_count": 2,
   "id": "02c22b6c",
   "metadata": {},
   "outputs": [
    {
     "name": "stderr",
     "output_type": "stream",
     "text": [
      "[WDM] - ====== WebDriver manager ======\n",
      "[WDM] - Current edge version is 101.0.1210\n",
      "[WDM] - Get LATEST edgedriver version for 101.0.1210 Edge\n",
      "[WDM] - Driver [C:\\Users\\sj294\\.wdm\\drivers\\edgedriver\\win64\\101.0.1210.53\\msedgedriver.exe] found in cache\n"
     ]
    }
   ],
   "source": [
    "#set the driver\n",
    "driver = webdriver.Edge(service = Service(EdgeChromiumDriverManager().install()))\n",
    "\n",
    "#set url\n",
    "start_url = \"https://gow.epsrc.ukri.org/NGBOFindPanels.aspx\"\n",
    "\n",
    "#load page\n",
    "driver.get(start_url)"
   ]
  },
  {
   "cell_type": "markdown",
   "id": "171b79b9",
   "metadata": {},
   "source": [
    "## search settings\n",
    "The GotW webpage runs on a search basis, with no results returned initially. We want to try and identify all panels at once, so we want to set the search settings as far back as we can go, even if that means we pick up some data we don't really want."
   ]
  },
  {
   "cell_type": "markdown",
   "id": "8d4bd955",
   "metadata": {},
   "source": [
    "### generating the table of panels"
   ]
  },
  {
   "cell_type": "code",
   "execution_count": 3,
   "id": "227822c6",
   "metadata": {},
   "outputs": [],
   "source": [
    "#first step is to set to search between dates - the ui defaults to 'in the last' 6 months\n",
    "#from inspecting the webpage, the following should work\n",
    "driver.find_element(by = By.XPATH, value = '//*[@id=\"oplDates_0\"]').click()\n",
    "\n",
    "#then we need to pick the first day, month, year\n",
    "#these xpaths were identified by inspecting the UI and interacting with the relevant elements\n",
    "day_xpath = '//*[@id=\"oUcStartDate_ddlDay\"]/option[1]'\n",
    "mon_xpath = '//*[@id=\"oUcStartDate_ddlMonth\"]/option[1]'\n",
    "yr_xpath = '//*[@id=\"oUcStartDate_ddlYear\"]/option[1]'\n",
    "\n",
    "#now we have to click on those options\n",
    "driver.find_element(by = By.XPATH, value = '//*[@id=\"oUcStartDate_ddlDay\"]').click() # open day slicer\n",
    "WebDriverWait(driver, 5).until(EC.element_to_be_clickable((By.XPATH, day_xpath))).click() # choose the day\n",
    "\n",
    "driver.find_element(by = By.XPATH, value = '//*[@id=\"oUcStartDate_ddlMonth\"]').click() # open day slicer\n",
    "WebDriverWait(driver, 5).until(EC.element_to_be_clickable((By.XPATH, mon_xpath))).click() # choose the month\n",
    "\n",
    "driver.find_element(by = By.XPATH, value = '//*[@id=\"oUcStartDate_ddlYear\"]').click() # open day slicer\n",
    "WebDriverWait(driver, 5).until(EC.element_to_be_clickable((By.XPATH, yr_xpath))).click() # choose the year\n",
    "\n",
    "#thankfully the webform defaults the 'to' date to the day of use, so no need to update!\n",
    "\n",
    "#so now all that's left to do is search (on testing, this works!)\n",
    "driver.find_element(by = By.XPATH, value = '//*[@id=\"btnSearch\"]').click()"
   ]
  },
  {
   "cell_type": "markdown",
   "id": "2eea928f",
   "metadata": {},
   "source": [
    "## now to grab links to specific panel pages\n",
    "We've got the table with all the panel results. GotW is set up so each has unique ID, which then defines the URL for the page with the info we're really after. So now we want to go through this list and extract the ids."
   ]
  },
  {
   "cell_type": "code",
   "execution_count": 4,
   "id": "213f7479",
   "metadata": {},
   "outputs": [
    {
     "data": {
      "text/plain": [
       "['https://gow.epsrc.ukri.org/NGBOViewPanel.aspx?PanelId=1-3S0O1',\n",
       " 'https://gow.epsrc.ukri.org/ViewPanel.aspx?PanelId=5055',\n",
       " 'https://gow.epsrc.ukri.org/NGBOViewPanel.aspx?PanelId=1-PI0M9',\n",
       " 'https://gow.epsrc.ukri.org/ViewPanel.aspx?PanelId=4590',\n",
       " 'https://gow.epsrc.ukri.org/ViewPanel.aspx?PanelId=4648',\n",
       " 'https://gow.epsrc.ukri.org/NGBOViewPanel.aspx?PanelId=1-TM70D',\n",
       " 'https://gow.epsrc.ukri.org/NGBOViewPanel.aspx?PanelId=1-1G4FFB',\n",
       " 'https://gow.epsrc.ukri.org/NGBOViewPanel.aspx?PanelId=1-1D9T5E',\n",
       " 'https://gow.epsrc.ukri.org/NGBOViewPanel.aspx?PanelId=1-5T51YR',\n",
       " 'https://gow.epsrc.ukri.org/NGBOViewPanel.aspx?PanelId=1-5ZF065']"
      ]
     },
     "execution_count": 4,
     "metadata": {},
     "output_type": "execute_result"
    }
   ],
   "source": [
    "#get the page as a soup object\n",
    "page = Soup(driver.page_source, features = \"html.parser\")\n",
    "\n",
    "#from inspecting the page we can see the particular table of interest has id = \"dgDetails\"\n",
    "tbl = page.find(id = \"dgDetails\")\n",
    "\n",
    "#find all  the 'a' (hyperlink) elements\n",
    "hyperlinks = tbl.find_all(\"a\", href = True)\n",
    "\n",
    "#extract the href arguments\n",
    "hrefs = [hyperlinks[h][\"href\"] for h in range(len(hyperlinks))]\n",
    "\n",
    "#now extract the panle ids - exclude the first two rows as these part of the table header\n",
    "panel_ids = [hrefs[h].split(\"PanelId=\")[1] for h in range(2, len(hrefs), 1)]\n",
    "\n",
    "#identify if 'view panel', 'prior panel' or 'NGBO panel' - affects final URL\n",
    "types = []\n",
    "for h in range(2, len(hrefs), 1):\n",
    "    if hrefs[h][:4] == \"NGBO\":\n",
    "        type = \"NGBO\"\n",
    "        types.append(type)\n",
    "    elif hrefs[h][4:6] == \"Pr\": \n",
    "        type = \"Prior\"\n",
    "        types.append(type)\n",
    "    else:\n",
    "        type = \"View\"\n",
    "        types.append(type)\n",
    "\n",
    "#finally, turn these into urls\n",
    "panel_urls = []\n",
    "for i in range(len(panel_ids)):\n",
    "    if types[i] == \"NGBO\":\n",
    "        url = f\"https://gow.epsrc.ukri.org/NGBOViewPanel.aspx?PanelId={panel_ids[i]}\"\n",
    "        panel_urls.append(url)\n",
    "    elif types[i] == \"Prior\":\n",
    "        url = f\"https://gow.epsrc.ukri.org/ViewPriorPanel.aspx?PanelId={panel_ids[i]}\"\n",
    "        panel_urls.append(url)\n",
    "    else:\n",
    "        url = f\"https://gow.epsrc.ukri.org/ViewPanel.aspx?PanelId={panel_ids[i]}\"\n",
    "        panel_urls.append(url)\n",
    "        \n",
    "#at this point I don't think the driver is needed any more, so we can quit\n",
    "driver.quit()\n",
    "\n",
    "#take a look\n",
    "panel_urls[:10]\n"
   ]
  },
  {
   "cell_type": "markdown",
   "id": "46efb75e",
   "metadata": {},
   "source": [
    "## now start scraping data from the individual panel pages"
   ]
  },
  {
   "cell_type": "markdown",
   "id": "0a6ecb95",
   "metadata": {},
   "source": [
    "### grab metadata"
   ]
  },
  {
   "cell_type": "code",
   "execution_count": 5,
   "id": "adc25b15",
   "metadata": {},
   "outputs": [],
   "source": [
    "#panel page source\n",
    "panel_source = request.urlopen(panel_urls[0])\n",
    "\n",
    "#panel page\n",
    "panel_page = Soup(panel_source, features = \"html.parser\")\n",
    "\n",
    "#get the panel name\n",
    "panel_name = panel_page.find(id = \"lblPanelName\").text.strip()\n",
    "\n",
    "#get the meeting date\n",
    "meeting_date = panel_page.find(id = \"lblDateOfPanel\").text\n",
    "meeting_date = datetime.strptime(meeting_date, '%d %B %Y')"
   ]
  },
  {
   "cell_type": "markdown",
   "id": "c1199c5e",
   "metadata": {},
   "source": [
    "### grab table data"
   ]
  },
  {
   "cell_type": "code",
   "execution_count": 6,
   "id": "1afe5263",
   "metadata": {},
   "outputs": [
    {
     "data": {
      "text/html": [
       "<div>\n",
       "<style scoped>\n",
       "    .dataframe tbody tr th:only-of-type {\n",
       "        vertical-align: middle;\n",
       "    }\n",
       "\n",
       "    .dataframe tbody tr th {\n",
       "        vertical-align: top;\n",
       "    }\n",
       "\n",
       "    .dataframe thead th {\n",
       "        text-align: right;\n",
       "    }\n",
       "</style>\n",
       "<table border=\"1\" class=\"dataframe\">\n",
       "  <thead>\n",
       "    <tr style=\"text-align: right;\">\n",
       "      <th></th>\n",
       "      <th>0</th>\n",
       "      <th>1</th>\n",
       "      <th>2</th>\n",
       "      <th>3</th>\n",
       "      <th>4</th>\n",
       "      <th>5</th>\n",
       "    </tr>\n",
       "  </thead>\n",
       "  <tbody>\n",
       "    <tr>\n",
       "      <th>0</th>\n",
       "      <td>Funding Priority List</td>\n",
       "      <td>Funded</td>\n",
       "      <td>Unfunded</td>\n",
       "      <td>Referred to a later panel</td>\n",
       "      <td>Decision still awaited</td>\n",
       "      <td>Funding rate(% of grant number)</td>\n",
       "    </tr>\n",
       "    <tr>\n",
       "      <th>1</th>\n",
       "      <td>Standard</td>\n",
       "      <td>3</td>\n",
       "      <td>5</td>\n",
       "      <td>0</td>\n",
       "      <td>0</td>\n",
       "      <td>37</td>\n",
       "    </tr>\n",
       "    <tr>\n",
       "      <th>2</th>\n",
       "      <td>Including:</td>\n",
       "      <td>Including:</td>\n",
       "      <td>Including:</td>\n",
       "      <td>Including:</td>\n",
       "      <td>Including:</td>\n",
       "      <td>Including:</td>\n",
       "    </tr>\n",
       "    <tr>\n",
       "      <th>3</th>\n",
       "      <td>Main List</td>\n",
       "      <td>3</td>\n",
       "      <td>5</td>\n",
       "      <td>0</td>\n",
       "      <td>0</td>\n",
       "      <td>37</td>\n",
       "    </tr>\n",
       "    <tr>\n",
       "      <th>4</th>\n",
       "      <td>Please click on relevant Funding Priority List...</td>\n",
       "      <td>Please click on relevant Funding Priority List...</td>\n",
       "      <td>Please click on relevant Funding Priority List...</td>\n",
       "      <td>Please click on relevant Funding Priority List...</td>\n",
       "      <td>Please click on relevant Funding Priority List...</td>\n",
       "      <td>Please click on relevant Funding Priority List...</td>\n",
       "    </tr>\n",
       "  </tbody>\n",
       "</table>\n",
       "</div>"
      ],
      "text/plain": [
       "                                                   0  \\\n",
       "0                              Funding Priority List   \n",
       "1                                           Standard   \n",
       "2                                         Including:   \n",
       "3                                          Main List   \n",
       "4  Please click on relevant Funding Priority List...   \n",
       "\n",
       "                                                   1  \\\n",
       "0                                             Funded   \n",
       "1                                                  3   \n",
       "2                                         Including:   \n",
       "3                                                  3   \n",
       "4  Please click on relevant Funding Priority List...   \n",
       "\n",
       "                                                   2  \\\n",
       "0                                           Unfunded   \n",
       "1                                                  5   \n",
       "2                                         Including:   \n",
       "3                                                  5   \n",
       "4  Please click on relevant Funding Priority List...   \n",
       "\n",
       "                                                   3  \\\n",
       "0                          Referred to a later panel   \n",
       "1                                                  0   \n",
       "2                                         Including:   \n",
       "3                                                  0   \n",
       "4  Please click on relevant Funding Priority List...   \n",
       "\n",
       "                                                   4  \\\n",
       "0                             Decision still awaited   \n",
       "1                                                  0   \n",
       "2                                         Including:   \n",
       "3                                                  0   \n",
       "4  Please click on relevant Funding Priority List...   \n",
       "\n",
       "                                                   5  \n",
       "0                    Funding rate(% of grant number)  \n",
       "1                                                 37  \n",
       "2                                         Including:  \n",
       "3                                                 37  \n",
       "4  Please click on relevant Funding Priority List...  "
      ]
     },
     "execution_count": 6,
     "metadata": {},
     "output_type": "execute_result"
    }
   ],
   "source": [
    "#read tables to dataframe\n",
    "tables = pd.read_html(panel_urls[0], match = \"Funding Priority List\") #we're using the first one as an example here\n",
    "\n",
    "tbl_list = [\n",
    "    tables[0], # by number\n",
    "    tables[1] # by value\n",
    "]\n",
    "\n",
    "#take a look\n",
    "tbl_list[0]"
   ]
  },
  {
   "cell_type": "markdown",
   "id": "1fb25162",
   "metadata": {},
   "source": [
    "### function tidy up tables"
   ]
  },
  {
   "cell_type": "code",
   "execution_count": 7,
   "id": "2f038534",
   "metadata": {},
   "outputs": [],
   "source": [
    "def tidy_tables(df):\n",
    "    \n",
    "    #remove trailing column if there is one\n",
    "    if(df.shape[1]) == 7:\n",
    "        df = df.drop(df.columns[6], axis = 1)\n",
    "    \n",
    "    #headers - replace colnames with values from first (0th) row\n",
    "    df = df.rename(columns = df.iloc[0])\n",
    "    \n",
    "    #function to tidy colnames\n",
    "    def tidy_columns(c):\n",
    "        stripped = c.strip()\n",
    "        lower = stripped.lower()\n",
    "        nospace = lower.replace(\" \", \"_\")\n",
    "        nopct = nospace.replace(\"%\", \"pct\")\n",
    "        nochr = nopct.translate ({ord(c): \"\" for c in \"!@#$%^&*()[]{};:,./<>?\\|`~-=+\"})\n",
    "        return nochr\n",
    "   \n",
    "    df.columns = [tidy_columns(c) for c in df.columns.values.tolist()]\n",
    "    \n",
    "    #remove unncessary rows\n",
    "    df = df.loc[df[\"funding_priority_list\"] == \"Standard\"]\n",
    "    \n",
    "    #add columns for panel, meeting date and year\n",
    "    df[\"panel\"] = panel_name\n",
    "    df[\"year\"] = meeting_date.year\n",
    "    df[\"month\"] = meeting_date.month\n",
    "    df[\"day\"] = meeting_date.day\n",
    "    \n",
    "    #rename the funding rate column for conistency\n",
    "    df = df.rename(columns = {df.columns[5]: \"success_rate\"})\n",
    "    \n",
    "    return df"
   ]
  },
  {
   "cell_type": "markdown",
   "id": "974e2e30",
   "metadata": {},
   "source": [
    "### run for both the by number and by value tables"
   ]
  },
  {
   "cell_type": "code",
   "execution_count": 8,
   "id": "7ca10f6a",
   "metadata": {},
   "outputs": [
    {
     "data": {
      "text/html": [
       "<div>\n",
       "<style scoped>\n",
       "    .dataframe tbody tr th:only-of-type {\n",
       "        vertical-align: middle;\n",
       "    }\n",
       "\n",
       "    .dataframe tbody tr th {\n",
       "        vertical-align: top;\n",
       "    }\n",
       "\n",
       "    .dataframe thead th {\n",
       "        text-align: right;\n",
       "    }\n",
       "</style>\n",
       "<table border=\"1\" class=\"dataframe\">\n",
       "  <thead>\n",
       "    <tr style=\"text-align: right;\">\n",
       "      <th></th>\n",
       "      <th>funding_priority_list</th>\n",
       "      <th>funded</th>\n",
       "      <th>unfunded</th>\n",
       "      <th>referred_to_a_later_panel</th>\n",
       "      <th>decision_still_awaited</th>\n",
       "      <th>success_rate</th>\n",
       "      <th>panel</th>\n",
       "      <th>year</th>\n",
       "      <th>month</th>\n",
       "      <th>day</th>\n",
       "      <th>data_type</th>\n",
       "    </tr>\n",
       "  </thead>\n",
       "  <tbody>\n",
       "    <tr>\n",
       "      <th>1</th>\n",
       "      <td>Standard</td>\n",
       "      <td>3</td>\n",
       "      <td>5</td>\n",
       "      <td>0</td>\n",
       "      <td>0</td>\n",
       "      <td>37</td>\n",
       "      <td>Basic Technology CDT Lite</td>\n",
       "      <td>2011</td>\n",
       "      <td>3</td>\n",
       "      <td>15</td>\n",
       "      <td>number</td>\n",
       "    </tr>\n",
       "    <tr>\n",
       "      <th>1</th>\n",
       "      <td>Standard</td>\n",
       "      <td>5911461</td>\n",
       "      <td>10051301</td>\n",
       "      <td>0</td>\n",
       "      <td>0</td>\n",
       "      <td>37</td>\n",
       "      <td>Basic Technology CDT Lite</td>\n",
       "      <td>2011</td>\n",
       "      <td>3</td>\n",
       "      <td>15</td>\n",
       "      <td>value</td>\n",
       "    </tr>\n",
       "  </tbody>\n",
       "</table>\n",
       "</div>"
      ],
      "text/plain": [
       "  funding_priority_list   funded  unfunded referred_to_a_later_panel  \\\n",
       "1              Standard        3         5                         0   \n",
       "1              Standard  5911461  10051301                         0   \n",
       "\n",
       "  decision_still_awaited success_rate                      panel  year  month  \\\n",
       "1                      0           37  Basic Technology CDT Lite  2011      3   \n",
       "1                      0           37  Basic Technology CDT Lite  2011      3   \n",
       "\n",
       "   day data_type  \n",
       "1   15    number  \n",
       "1   15     value  "
      ]
     },
     "execution_count": 8,
     "metadata": {},
     "output_type": "execute_result"
    }
   ],
   "source": [
    "#list for tidied dfs\n",
    "tidied_dfs = [tidy_tables(df) for df in tbl_list]\n",
    "\n",
    "#concat\n",
    "tidy_df = pd.concat(tidied_dfs)\n",
    "\n",
    "#add on data type\n",
    "tidy_df[\"data_type\"] = [\"number\", \"value\"]\n",
    "\n",
    "tidy_df\n"
   ]
  }
 ],
 "metadata": {
  "kernelspec": {
   "display_name": "Python 3 (ipykernel)",
   "language": "python",
   "name": "python3"
  },
  "language_info": {
   "codemirror_mode": {
    "name": "ipython",
    "version": 3
   },
   "file_extension": ".py",
   "mimetype": "text/x-python",
   "name": "python",
   "nbconvert_exporter": "python",
   "pygments_lexer": "ipython3",
   "version": "3.10.4"
  }
 },
 "nbformat": 4,
 "nbformat_minor": 5
}
